{
 "cells": [
  {
   "cell_type": "code",
   "execution_count": 18,
   "metadata": {},
   "outputs": [],
   "source": [
    "s=\"FRBS KCTSDC CGTBRLKOLEXLDC EBEPYTSVAKXPMBFEERCG FRBS KCTSDC BFDKCILUPKKFNFXCSC EBLMDK DASTOPBFOXKCLGHCLGPIQUTGLQ PBREMLDADIGTHUHNKB POKFLMULGCLHSTXGINBRXLHWLUQRMXYBLUBFHKEBUBFRMNSTKXLIXLPBKC\"\n",
    "q=\"GQXN IDSRCB AISCQMIPFVVNCB DADLTOQXDGZNNAEVAQAI GQXN IDSRCB EHZDYCPQKDIKLHYBTB DAPLZD CERSNOEHNYIDMFIBMFOKUTRIFL NDQALPCECKIRKSBHHD ONIKPLQPIANFRSWHHOASVNGXPQUQNWXCPQEHGIDASDGQLMRSHZOFVNNDID\"\n",
    "p=\"GQYN OEBQIE AIEAQMONKTWMIE CAVKWBPYEMVRNADTAPAI GQYN OEBQIE THEDZCOQKDLDLHZAUB CAKLED GEQBKUTHMZOEMFIBMFUDPSAFFL SEPALKGEIHFAISBHNE UKLDKLQOIANFQBRAHOASWMFYOQPQGRSYOQTHDNCASCGQLMQBMVOFWMSEOE\"\n",
    "r=\"GQYN OEBRIE TIATQMONKAWMIE CTVKXBPYELVRNTDATPTI GQYN OEBRIE AHEDZCOQKDLDLHZTUB CTKLED FERBKUAHMZOEMFIBMFUDPSXTFL SEPTLKFEIHTXISBHNE UKLDKLQOITNFRBRTHOTSWMFYOQPQGRSYOQAHDNCTSCGQLMRBMVOFWMSEOE\"\n",
    "o=\"ALOU IDOQCH HFEOLFMTIARFCH BOVIWOPYTLVRNOCAAPHF ALOU IDOQCH AHTDECNRQILDLHVFPG BOKLTD FTQOESAHAYIDMFGHMFICPSODKR UEPALKFTCKDOBNBHNT SELDKLRNFHNFQOYFNMAURFDZNRPQLYZONRAHDNBONZALLMQOLWKNRFUEID\"\n",
    "n=\"DSFP CTOQCB BFECLDMTHARDCB VEVHWOPYTLVRHFBOAPBF DSFP CTOQCB GDCLGTNRQHMCMGWDQF VEKLCL AXQOESGDAYCTNDKBNDUEPSICKR HEPALKAXGACINPNMHC SEMCKLRNFBKNQOZDZGDPRDKVNRPQLYVFNRGDNHVEPGDSLMQOLWNARDHECT\""
   ]
  },
  {
   "cell_type": "code",
   "execution_count": 3,
   "metadata": {},
   "outputs": [],
   "source": [
    "s=s.lower()"
   ]
  },
  {
   "cell_type": "code",
   "execution_count": 4,
   "metadata": {},
   "outputs": [],
   "source": [
    "lis=[]\n",
    "for i in range(0,len(s),2):\n",
    "    lis.append(s[i]+s[i+1])"
   ]
  },
  {
   "cell_type": "code",
   "execution_count": 5,
   "metadata": {},
   "outputs": [],
   "source": [
    "dic={}\n",
    "for i in lis:\n",
    "    first=i[0]\n",
    "    second=i[1]\n",
    "    if first in dic:\n",
    "        dic[first].append(second)\n",
    "    else:\n",
    "        dic[first]=[second]\n",
    "    if second in dic:\n",
    "        dic[second].append(first)\n",
    "    else:\n",
    "        dic[second]=[first]\n",
    "for i in dic:\n",
    "    dic[i]=list(set(dic[i]))"
   ]
  },
  {
   "cell_type": "code",
   "execution_count": 6,
   "metadata": {},
   "outputs": [],
   "source": [
    "n=len(dic)"
   ]
  },
  {
   "cell_type": "code",
   "execution_count": 7,
   "metadata": {},
   "outputs": [
    {
     "name": "stdout",
     "output_type": "stream",
     "text": [
      "fr bs kc ts dc cg tb rl ko le xl dc \n",
      "eb ep yt sv ak xp mb fe er cg \n",
      "fr \n",
      "bs \n",
      "kc \n",
      "ts \n",
      "dc \n",
      "bf dk ci lu pk kf nf xc sc eb \n",
      "lm dk \n",
      "da st op bf \n",
      "ox kc \n",
      "lg hc lg \n",
      "pi qu tg lq pb re ml da \n",
      "di gt hu hn kb po kf \n",
      "lm \n",
      "ul gc lh st \n",
      "xg in br xl \n",
      "hw lu \n",
      "qr mx yb lu \n",
      "bf \n",
      "hk eb \n",
      "ub fr \n",
      "mn st \n",
      "kx li xl \n",
      "pb \n",
      "kc \n"
     ]
    }
   ],
   "source": [
    "temp=[]\n",
    "for i in lis:\n",
    "    print(i,end=\" \")\n",
    "    if i in temp:\n",
    "        print()\n",
    "    else:\n",
    "        temp.append(i)"
   ]
  },
  {
   "cell_type": "code",
   "execution_count": 8,
   "metadata": {},
   "outputs": [],
   "source": [
    "def ordx(c):\n",
    "    o=ord(c)\n",
    "    if o<ord('j'):\n",
    "        return o\n",
    "    else:\n",
    "        return o-1"
   ]
  },
  {
   "cell_type": "code",
   "execution_count": 9,
   "metadata": {},
   "outputs": [],
   "source": [
    "temp=[]\n",
    "for i in lis:\n",
    "    if abs(ordx(i[1])-ordx(i[0]))<=4:\n",
    "        temp.append(i)\n",
    "temp=list(set(temp))\n",
    "temp=sorted(temp,key=lambda x:ord(x[0]))"
   ]
  },
  {
   "cell_type": "code",
   "execution_count": 10,
   "metadata": {},
   "outputs": [
    {
     "data": {
      "text/plain": [
       "{'fr': 3,\n",
       " 'bs': 2,\n",
       " 'kc': 4,\n",
       " 'ts': 2,\n",
       " 'dc': 3,\n",
       " 'cg': 2,\n",
       " 'tb': 1,\n",
       " 'rl': 1,\n",
       " 'ko': 1,\n",
       " 'le': 1,\n",
       " 'xl': 3,\n",
       " 'eb': 3,\n",
       " 'ep': 1,\n",
       " 'yt': 1,\n",
       " 'sv': 1,\n",
       " 'ak': 1,\n",
       " 'xp': 1,\n",
       " 'mb': 1,\n",
       " 'fe': 1,\n",
       " 'er': 1,\n",
       " 'bf': 3,\n",
       " 'dk': 2,\n",
       " 'ci': 1,\n",
       " 'lu': 3,\n",
       " 'pk': 1,\n",
       " 'kf': 2,\n",
       " 'nf': 1,\n",
       " 'xc': 1,\n",
       " 'sc': 1,\n",
       " 'lm': 2,\n",
       " 'da': 2,\n",
       " 'st': 3,\n",
       " 'op': 1,\n",
       " 'ox': 1,\n",
       " 'lg': 2,\n",
       " 'hc': 1,\n",
       " 'pi': 1,\n",
       " 'qu': 1,\n",
       " 'tg': 1,\n",
       " 'lq': 1,\n",
       " 'pb': 2,\n",
       " 're': 1,\n",
       " 'ml': 1,\n",
       " 'di': 1,\n",
       " 'gt': 1,\n",
       " 'hu': 1,\n",
       " 'hn': 1,\n",
       " 'kb': 1,\n",
       " 'po': 1,\n",
       " 'ul': 1,\n",
       " 'gc': 1,\n",
       " 'lh': 1,\n",
       " 'xg': 1,\n",
       " 'in': 1,\n",
       " 'br': 1,\n",
       " 'hw': 1,\n",
       " 'qr': 1,\n",
       " 'mx': 1,\n",
       " 'yb': 1,\n",
       " 'hk': 1,\n",
       " 'ub': 1,\n",
       " 'mn': 1,\n",
       " 'kx': 1,\n",
       " 'li': 1}"
      ]
     },
     "execution_count": 10,
     "metadata": {},
     "output_type": "execute_result"
    }
   ],
   "source": [
    "#count of each element in the list\n",
    "count={}\n",
    "for i in lis:\n",
    "    if i in count:\n",
    "        count[i]+=1\n",
    "    else:\n",
    "        count[i]=1\n",
    "count"
   ]
  },
  {
   "cell_type": "code",
   "execution_count": 11,
   "metadata": {},
   "outputs": [
    {
     "data": {
      "text/plain": [
       "['kc',\n",
       " 'fr',\n",
       " 'dc',\n",
       " 'xl',\n",
       " 'eb',\n",
       " 'bf',\n",
       " 'lu',\n",
       " 'st',\n",
       " 'bs',\n",
       " 'ts',\n",
       " 'cg',\n",
       " 'dk',\n",
       " 'kf',\n",
       " 'lm',\n",
       " 'da',\n",
       " 'lg',\n",
       " 'pb',\n",
       " 'tb',\n",
       " 'rl',\n",
       " 'ko',\n",
       " 'le',\n",
       " 'ep',\n",
       " 'yt',\n",
       " 'sv',\n",
       " 'ak',\n",
       " 'xp',\n",
       " 'mb',\n",
       " 'fe',\n",
       " 'er',\n",
       " 'ci',\n",
       " 'pk',\n",
       " 'nf',\n",
       " 'xc',\n",
       " 'sc',\n",
       " 'op',\n",
       " 'ox',\n",
       " 'hc',\n",
       " 'pi',\n",
       " 'qu',\n",
       " 'tg',\n",
       " 'lq',\n",
       " 're',\n",
       " 'ml',\n",
       " 'di',\n",
       " 'gt',\n",
       " 'hu',\n",
       " 'hn',\n",
       " 'kb',\n",
       " 'po',\n",
       " 'ul',\n",
       " 'gc',\n",
       " 'lh',\n",
       " 'xg',\n",
       " 'in',\n",
       " 'br',\n",
       " 'hw',\n",
       " 'qr',\n",
       " 'mx',\n",
       " 'yb',\n",
       " 'hk',\n",
       " 'ub',\n",
       " 'mn',\n",
       " 'kx',\n",
       " 'li']"
      ]
     },
     "execution_count": 11,
     "metadata": {},
     "output_type": "execute_result"
    }
   ],
   "source": [
    "#list of elements sorted by count\n",
    "temp=sorted(count,key=lambda x:count[x],reverse=True)\n",
    "temp"
   ]
  },
  {
   "cell_type": "code",
   "execution_count": 12,
   "metadata": {},
   "outputs": [],
   "source": [
    "bigrams=[\"th\", \"he\", \"in\", \"en\", \"nt\", \"re\", \"er\", \"an\", \"ti\", \"es\", \"on\", \"at\", \"se\", \"nd\", \"or\", \"ar\", \"al\", \"te\", \"co\", \"de\", \"to\", \"ra\", \"et\", \"ed\", \"it\", \"sa\", \"em\", \"ro\"]"
   ]
  },
  {
   "cell_type": "code",
   "execution_count": 15,
   "metadata": {},
   "outputs": [
    {
     "data": {
      "text/plain": [
       "{'kc': ['he'],\n",
       " 'fr': ['in', 'er', 'es', 'et'],\n",
       " 'xl': ['to'],\n",
       " 'bf': ['de', 'ed'],\n",
       " 'lu': ['nt', 'or'],\n",
       " 'bs': ['at'],\n",
       " 'cg': ['de', 'ed'],\n",
       " 'dk': ['he', 'an'],\n",
       " 'kf': ['nd', 'em'],\n",
       " 'lm': ['in'],\n",
       " 'lg': ['nd'],\n",
       " 'pb': ['nd', 'ra'],\n",
       " 'tb': ['re'],\n",
       " 'rl': ['th', 'ti', 'on'],\n",
       " 'ko': ['es', 'et'],\n",
       " 'le': ['nd'],\n",
       " 'ep': ['at'],\n",
       " 'ak': ['al'],\n",
       " 'mb': ['he'],\n",
       " 'fe': ['al'],\n",
       " 'er': ['in', 'er', 'es'],\n",
       " 'ci': ['he', 'al'],\n",
       " 'pk': ['te'],\n",
       " 'nf': ['ra', 'sa'],\n",
       " 'xc': ['th'],\n",
       " 'sc': ['re'],\n",
       " 'op': ['ti', 'it'],\n",
       " 'pi': ['se', 'te'],\n",
       " 'tg': ['th', 'on'],\n",
       " 'lq': ['on', 'it'],\n",
       " 're': ['re', 'se'],\n",
       " 'ml': ['in', 're'],\n",
       " 'di': ['he', 'an', 'al'],\n",
       " 'hu': ['it'],\n",
       " 'hn': ['in', 'er'],\n",
       " 'kb': ['he'],\n",
       " 'po': ['ti'],\n",
       " 'ul': ['ro'],\n",
       " 'gc': ['de', 'ed'],\n",
       " 'in': ['in', 'er', 'es'],\n",
       " 'br': ['en', 'at', 'ar'],\n",
       " 'qr': ['nt', 'to'],\n",
       " 'yb': ['th'],\n",
       " 'hk': ['en', 'nd', 'co', 'em'],\n",
       " 'ub': ['re', 'se'],\n",
       " 'kx': ['nt']}"
      ]
     },
     "execution_count": 15,
     "metadata": {},
     "output_type": "execute_result"
    }
   ],
   "source": [
    "dic={}\n",
    "for i in temp:\n",
    "    for j in bigrams:\n",
    "        d1=ordx(i[0])-ordx(j[0])\n",
    "        d2=ordx(i[1])-ordx(j[1])\n",
    "        if (d1==d2*-1 or d1+1==d2*-1 or d1-1==d2*-1) and abs(d1)<=5:\n",
    "            if i in dic:\n",
    "                dic[i].append(j)\n",
    "            else:\n",
    "                dic[i]=[j]\n",
    "dic\n",
    "            "
   ]
  },
  {
   "cell_type": "code",
   "execution_count": 16,
   "metadata": {},
   "outputs": [
    {
     "name": "stdout",
     "output_type": "stream",
     "text": [
      "kc ['he']\n",
      "xl ['to']\n",
      "bs ['at']\n",
      "lm ['in']\n",
      "lg ['nd']\n",
      "tb ['re']\n",
      "le ['nd']\n",
      "ep ['at']\n",
      "ak ['al']\n",
      "mb ['he']\n",
      "fe ['al']\n",
      "pk ['te']\n",
      "xc ['th']\n",
      "sc ['re']\n",
      "hu ['it']\n",
      "kb ['he']\n",
      "po ['ti']\n",
      "ul ['ro']\n",
      "yb ['th']\n",
      "kx ['nt']\n"
     ]
    }
   ],
   "source": [
    "for i in dic:\n",
    "    if len(dic[i])==1:\n",
    "        print(i,dic[i])"
   ]
  },
  {
   "cell_type": "code",
   "execution_count": 21,
   "metadata": {},
   "outputs": [
    {
     "name": "stdout",
     "output_type": "stream",
     "text": [
      "0 47 FRBS FRBS\n",
      "2 49 BS K BS K\n",
      "4 51  KCT  KCT\n",
      "6 53 CTSD CTSD\n",
      "8 55 SDC  SDC \n"
     ]
    }
   ],
   "source": [
    "for i in range(0,len(s),2):\n",
    "    for j in range(i+2,len(s)-4):\n",
    "        if s[i:i+4]==s[j:j+4]:\n",
    "            print(i,j,s[i:i+4],s[j:j+4])"
   ]
  },
  {
   "cell_type": "code",
   "execution_count": null,
   "metadata": {},
   "outputs": [],
   "source": []
  },
  {
   "cell_type": "code",
   "execution_count": null,
   "metadata": {},
   "outputs": [],
   "source": []
  }
 ],
 "metadata": {
  "kernelspec": {
   "display_name": "Python 3",
   "language": "python",
   "name": "python3"
  },
  "language_info": {
   "codemirror_mode": {
    "name": "ipython",
    "version": 3
   },
   "file_extension": ".py",
   "mimetype": "text/x-python",
   "name": "python",
   "nbconvert_exporter": "python",
   "pygments_lexer": "ipython3",
   "version": "3.11.7"
  }
 },
 "nbformat": 4,
 "nbformat_minor": 2
}
